{
 "cells": [
  {
   "cell_type": "code",
   "execution_count": 4,
   "metadata": {},
   "outputs": [
    {
     "name": "stdout",
     "output_type": "stream",
     "text": [
      "environ({'PYTHONIOENCODING': 'utf8', 'PYSPARK_DRIVER_PYTHON': 'ipython3', 'HOSTNAME': '4db7c07e38ce', 'HOME': '/root', 'GOROOT': '/opt/go', 'NODEJS_PORT': '4000', 'GO111MODULE': 'on', 'TERM': 'xterm-color', 'PATH': '/usr/local/sbin:/usr/local/bin:/usr/sbin:/usr/bin:/sbin:/bin:/opt/jdk-10.0.2/bin:/opt/spark-2.4.3/bin:/opt/spark-2.4.3/sbin:/opt/go/bin', 'GOPATH': '/go', 'GOPROXY': 'https://goproxy.io', 'JUPYTER_HUB_PORT': '8000', 'SPARK_MASTER_HOST': '0.0.0.0', 'PYSPARK_PYTHON': 'ipython3', 'JAVA_HOME': '/opt/jdk-10.0.2', 'PWD': '/root', 'SERVER_PORT': '8888', 'SPARK_NO_DAEMONIZE': '1', 'FLASK_PORT': '3000', 'SPARK_HOME': '/opt/spark-2.4.3', 'JPY_PARENT_PID': '7', 'CLICOLOR': '1', 'PAGER': 'cat', 'GIT_PAGER': 'cat', 'MPLBACKEND': 'module://ipykernel.pylab.backend_inline'})\n"
     ]
    }
   ],
   "source": [
    "import os\n",
    "print(os.environ)\n"
   ]
  },
  {
   "cell_type": "code",
   "execution_count": null,
   "metadata": {},
   "outputs": [],
   "source": []
  }
 ],
 "metadata": {
  "kernelspec": {
   "display_name": "Python 3",
   "language": "python",
   "name": "python3"
  },
  "language_info": {
   "codemirror_mode": {
    "name": "ipython",
    "version": 3
   },
   "file_extension": ".py",
   "mimetype": "text/x-python",
   "name": "python",
   "nbconvert_exporter": "python",
   "pygments_lexer": "ipython3",
   "version": "3.6.8"
  }
 },
 "nbformat": 4,
 "nbformat_minor": 2
}
